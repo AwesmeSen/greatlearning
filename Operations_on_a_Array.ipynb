{
  "nbformat": 4,
  "nbformat_minor": 0,
  "metadata": {
    "colab": {
      "name": "Operations on a Array (1).ipynb",
      "provenance": [],
      "collapsed_sections": []
    },
    "kernelspec": {
      "display_name": "Python 3",
      "language": "python",
      "name": "python3"
    },
    "language_info": {
      "codemirror_mode": {
        "name": "ipython",
        "version": 3
      },
      "file_extension": ".py",
      "mimetype": "text/x-python",
      "name": "python",
      "nbconvert_exporter": "python",
      "pygments_lexer": "ipython3",
      "version": "3.7.3"
    }
  },
  "cells": [
    {
      "cell_type": "markdown",
      "metadata": {
        "colab_type": "text",
        "id": "fuVrsAUzWhBn"
      },
      "source": [
        "#### 1. Write a program to find BMI of the patients whose height and weight is provided in the list given below"
      ]
    },
    {
      "cell_type": "markdown",
      "metadata": {
        "colab_type": "text",
        "id": "ZVMmbrQGWqwC"
      },
      "source": [
        "Use the lists given below:\n",
        "\n",
        "list of weights (in kg) weights = [57, 69, 54, 65 ,71, 62, 56]\n",
        "\n",
        "list of heights (in m)\n",
        "heights = [1.59, 1.75, 1.66, 1.74, 1.64, 1.72, 1.53]"
      ]
    },
    {
      "cell_type": "code",
      "metadata": {
        "id": "uGnj9ZCWkASY",
        "colab_type": "code",
        "outputId": "b2f0e514-5a91-4b1b-a0a3-6a0ee5f7ebcb",
        "colab": {
          "base_uri": "https://localhost:8080/",
          "height": 68
        }
      },
      "source": [
        "import numpy as np \n",
        "weights = [57, 69, 54, 65 ,71, 62, 56]\n",
        "heights = [1.59, 1.75, 1.66, 1.74, 1.64, 1.72, 1.53]\n",
        "\n",
        "# convert the list to array\n",
        "\n",
        "weight_arr=np.array(weights)\n",
        "height_arr=np.array(heights)\n",
        "\n",
        "print((weight_arr))\n",
        "print(height_arr)\n",
        "save=[]\n",
        "# formula to calculate BMI\n",
        "for i in range(len(weight_arr)):\n",
        "  ans=weight_arr[i]/pow(height_arr[i],2)\n",
        "  save.append(ans)\n",
        "\n",
        "print(save)"
      ],
      "execution_count": 5,
      "outputs": [
        {
          "output_type": "stream",
          "text": [
            "[57 69 54 65 71 62 56]\n",
            "[1.59 1.75 1.66 1.74 1.64 1.72 1.53]\n",
            "[22.54657648036074, 22.53061224489796, 19.5964581216432, 21.469150482230148, 26.397977394408095, 20.9572742022715, 23.92242299970097]\n"
          ],
          "name": "stdout"
        }
      ]
    },
    {
      "cell_type": "code",
      "metadata": {
        "colab_type": "code",
        "id": "qdn4-UzBZR-T",
        "colab": {}
      },
      "source": [
        ""
      ],
      "execution_count": 0,
      "outputs": []
    }
  ]
}