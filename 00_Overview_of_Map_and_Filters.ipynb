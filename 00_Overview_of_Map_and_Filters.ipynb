{
  "nbformat": 4,
  "nbformat_minor": 0,
  "metadata": {
    "kernelspec": {
      "display_name": "Python 3",
      "language": "python",
      "name": "python3"
    },
    "language_info": {
      "codemirror_mode": {
        "name": "ipython",
        "version": 3
      },
      "file_extension": ".py",
      "mimetype": "text/x-python",
      "name": "python",
      "nbconvert_exporter": "python",
      "pygments_lexer": "ipython3",
      "version": "3.7.3"
    },
    "colab": {
      "name": "00 - Overview of Map and Filters.ipynb",
      "provenance": []
    }
  },
  "cells": [
    {
      "cell_type": "markdown",
      "metadata": {
        "id": "IHuhnU0649Yw",
        "colab_type": "text"
      },
      "source": [
        "<a id='Map_Function'></a>\n",
        "### Map Function"
      ]
    },
    {
      "cell_type": "markdown",
      "metadata": {
        "id": "4kbwGwPk49Y3",
        "colab_type": "text"
      },
      "source": [
        "<table align=\"left\">\n",
        "    <tr>\n",
        "        <td width=\"6%\">\n",
        "            <img src=\"question_icon.png\">\n",
        "        </td>\n",
        "        <td>\n",
        "            <div align=\"left\", style=\"font-size:120%\">\n",
        "                <font color=\"#21618C\">\n",
        "                    <b>Calculate the square of each element from the given tuple using the map function<b>\n",
        "                </font>\n",
        "            </div>\n",
        "        </td>\n",
        "    </tr>\n",
        "</table>"
      ]
    },
    {
      "cell_type": "markdown",
      "metadata": {
        "collapsed": true,
        "id": "cex2u_D849Y5",
        "colab_type": "text"
      },
      "source": [
        "**Use the tuple given below:**<br>\n",
        "number = (11, 21, 30, 34)"
      ]
    },
    {
      "cell_type": "code",
      "metadata": {
        "id": "v-xAS_8n49Y8",
        "colab_type": "code",
        "colab": {
          "base_uri": "https://localhost:8080/",
          "height": 34
        },
        "outputId": "7b50b1f0-de46-42a5-8ad7-983f66b933a7"
      },
      "source": [
        "def sq(val):\n",
        "  return val*val\n",
        "\n",
        "number = (11, 21, 30, 34)\n",
        "arr=tuple(map(sq,number))\n",
        "sq_val=tuple(arr)\n",
        "print(sq_val)"
      ],
      "execution_count": 4,
      "outputs": [
        {
          "output_type": "stream",
          "text": [
            "(121, 441, 900, 1156)\n"
          ],
          "name": "stdout"
        }
      ]
    },
    {
      "cell_type": "code",
      "metadata": {
        "id": "8N-DrtVz49ZG",
        "colab_type": "code",
        "colab": {}
      },
      "source": [
        ""
      ],
      "execution_count": 0,
      "outputs": []
    },
    {
      "cell_type": "markdown",
      "metadata": {
        "id": "bUOibluN49ZN",
        "colab_type": "text"
      },
      "source": [
        "<table align=\"left\">\n",
        "    <tr>\n",
        "        <td width=\"6%\">\n",
        "            <img src=\"question_icon.png\">\n",
        "        </td>\n",
        "        <td>\n",
        "            <div align=\"left\", style=\"font-size:120%\">\n",
        "                <font color=\"#21618C\">\n",
        "                    <b>Read the given sentence and print the length of each word in a sentence in a list using the map function<b>\n",
        "                </font>\n",
        "            </div>\n",
        "        </td>\n",
        "    </tr>\n",
        "</table>"
      ]
    },
    {
      "cell_type": "markdown",
      "metadata": {
        "collapsed": true,
        "id": "DG9fUVlD49ZP",
        "colab_type": "text"
      },
      "source": [
        "**Use the sentence given below :**\n",
        "\n",
        "**sentence = 'Python for Data Science'**"
      ]
    },
    {
      "cell_type": "code",
      "metadata": {
        "id": "2XA9ombM49ZR",
        "colab_type": "code",
        "colab": {
          "base_uri": "https://localhost:8080/",
          "height": 34
        },
        "outputId": "a3f75cd5-3f9b-4937-9bea-6d5a545381fc"
      },
      "source": [
        "def len_of_sent(sent):\n",
        "  return len(sent)\n",
        "\n",
        "sent=\"Python for Data Science\"\n",
        "arr=list(sent.split(\" \"))\n",
        "save=list(map(len_of_sent,arr))\n",
        "print(save)"
      ],
      "execution_count": 7,
      "outputs": [
        {
          "output_type": "stream",
          "text": [
            "[6, 3, 4, 7]\n"
          ],
          "name": "stdout"
        }
      ]
    },
    {
      "cell_type": "code",
      "metadata": {
        "id": "OCG1l-oU49ZY",
        "colab_type": "code",
        "colab": {}
      },
      "source": [
        ""
      ],
      "execution_count": 0,
      "outputs": []
    },
    {
      "cell_type": "markdown",
      "metadata": {
        "id": "TYcjqN3T49Zf",
        "colab_type": "text"
      },
      "source": [
        "<table align=\"left\">\n",
        "    <tr>\n",
        "        <td width=\"6%\">\n",
        "            <img src=\"question_icon.png\">\n",
        "        </td>\n",
        "        <td>\n",
        "            <div align=\"left\", style=\"font-size:120%\">\n",
        "                <font color=\"#21618C\">\n",
        "                    <b>Find the remainder of all the numbers present in a list after dividing by 5\n",
        "<b>\n",
        "                </font>\n",
        "            </div>\n",
        "        </td>\n",
        "    </tr>\n",
        "</table>"
      ]
    },
    {
      "cell_type": "markdown",
      "metadata": {
        "id": "XhO8Sjha49Zh",
        "colab_type": "text"
      },
      "source": [
        "deff **Use the list given below:**<br>\n",
        "numbers = [ 74, 85, 14, 23 ]"
      ]
    },
    {
      "cell_type": "code",
      "metadata": {
        "id": "Fuu5KBaO49Zk",
        "colab_type": "code",
        "colab": {
          "base_uri": "https://localhost:8080/",
          "height": 34
        },
        "outputId": "31ebfb86-4c24-4f40-ba37-7428ecf3daf2"
      },
      "source": [
        "def div(n):\n",
        "  return n%5\n",
        "\n",
        "numbers = [ 74, 85, 14, 23 ]\n",
        "val=list(map(div,numbers))\n",
        "print(val)"
      ],
      "execution_count": 8,
      "outputs": [
        {
          "output_type": "stream",
          "text": [
            "[4, 0, 4, 3]\n"
          ],
          "name": "stdout"
        }
      ]
    },
    {
      "cell_type": "code",
      "metadata": {
        "id": "_E5PB5tF49Zs",
        "colab_type": "code",
        "colab": {}
      },
      "source": [
        ""
      ],
      "execution_count": 0,
      "outputs": []
    },
    {
      "cell_type": "markdown",
      "metadata": {
        "id": "q_ZeA30_49Zz",
        "colab_type": "text"
      },
      "source": [
        "<table align=\"left\">\n",
        "    <tr>\n",
        "        <td width=\"6%\">\n",
        "            <img src=\"question_icon.png\">\n",
        "        </td>\n",
        "        <td>\n",
        "            <div align=\"left\", style=\"font-size:120%\">\n",
        "                <font color=\"#21618C\">\n",
        "                    <b>Concatenate elements from the list1 with the corresponding element of list2<b>\n",
        "                </font>\n",
        "            </div>\n",
        "        </td>\n",
        "    </tr>\n",
        "</table>"
      ]
    },
    {
      "cell_type": "markdown",
      "metadata": {
        "id": "ebh6O_n549Z1",
        "colab_type": "text"
      },
      "source": [
        "**Use the list given below:**\n",
        "\n",
        "list1 = ['I', 'felt', 'happy', 'because', 'I', 'saw', 'the', 'others', 'were', 'happy']\n",
        "\n",
        "list2 = [11,22,33,44,55,66,77,88,99]"
      ]
    },
    {
      "cell_type": "code",
      "metadata": {
        "id": "OYEkyh5C49Z3",
        "colab_type": "code",
        "colab": {
          "base_uri": "https://localhost:8080/",
          "height": 51
        },
        "outputId": "e6e5b346-48cc-44b1-ee24-0edf50903f36"
      },
      "source": [
        "list1 = ['I', 'felt', 'happy', 'because', 'I', 'saw', 'the', 'others', 'were', 'happy']\n",
        "list2 = [11,22,33,44,55,66,77,88,99]\n",
        "list2.insert(0,\"00\")\n",
        "arr=[]\n",
        "for i in range(len(list1)):\n",
        "  save=str(list1[i])+str(list2[i])\n",
        "  # print(save)\n",
        "  arr.append(save)\n",
        "print(arr)\n",
        "print(\" \".join(arr))"
      ],
      "execution_count": 13,
      "outputs": [
        {
          "output_type": "stream",
          "text": [
            "['I00', 'felt11', 'happy22', 'because33', 'I44', 'saw55', 'the66', 'others77', 'were88', 'happy99']\n",
            "I00 felt11 happy22 because33 I44 saw55 the66 others77 were88 happy99\n"
          ],
          "name": "stdout"
        }
      ]
    },
    {
      "cell_type": "markdown",
      "metadata": {
        "id": "Rx9ozH-049Z-",
        "colab_type": "text"
      },
      "source": [
        "<a id='Filter_Function'></a>\n",
        "### Filter Function"
      ]
    },
    {
      "cell_type": "markdown",
      "metadata": {
        "id": "p3WBHM6q49aA",
        "colab_type": "text"
      },
      "source": [
        "<table align=\"left\">\n",
        "    <tr>\n",
        "        <td width=\"6%\">\n",
        "            <img src=\"question_icon.png\">\n",
        "        </td>\n",
        "        <td>\n",
        "            <div align=\"left\", style=\"font-size:120%\">\n",
        "                <font color=\"#21618C\">\n",
        "                    <b>Find the common elements from the given array using filter method<b>\n",
        "                </font>\n",
        "            </div>\n",
        "        </td>\n",
        "    </tr>\n",
        "</table>"
      ]
    },
    {
      "cell_type": "markdown",
      "metadata": {
        "id": "QDlze_ju49aD",
        "colab_type": "text"
      },
      "source": [
        "**Use the array given below:**<br>\n",
        "arr1 = ['t','u','t','o','r','i','a','l']<br>\n",
        "arr2 = ['p','o','i','n','t']"
      ]
    },
    {
      "cell_type": "code",
      "metadata": {
        "id": "DrO2VcKR49aF",
        "colab_type": "code",
        "colab": {
          "base_uri": "https://localhost:8080/",
          "height": 34
        },
        "outputId": "b7c0b9f7-4c0a-485a-a3a2-839ff57bc9ff"
      },
      "source": [
        "arr1 = ['t','u','t','o','r','i','a','l']\n",
        "arr2 = ['p','o','i','n','t']\n",
        "\n",
        "save=list(filter(lambda x:x in arr1,arr2))\n",
        "print(save)\n",
        "\n",
        "\n"
      ],
      "execution_count": 19,
      "outputs": [
        {
          "output_type": "stream",
          "text": [
            "['o', 'i', 't']\n"
          ],
          "name": "stdout"
        }
      ]
    },
    {
      "cell_type": "markdown",
      "metadata": {
        "id": "-USQBZtC49aL",
        "colab_type": "text"
      },
      "source": [
        "<table align=\"left\">\n",
        "    <tr>\n",
        "        <td width=\"6%\">\n",
        "            <img src=\"question_icon.png\">\n",
        "        </td>\n",
        "        <td>\n",
        "            <div align=\"left\", style=\"font-size:120%\">\n",
        "                <font color=\"#21618C\">\n",
        "                    <b>Remove odd numbers from the given list<b>\n",
        "                </font>\n",
        "            </div>\n",
        "        </td>\n",
        "    </tr>\n",
        "</table>"
      ]
    },
    {
      "cell_type": "markdown",
      "metadata": {
        "id": "45wQLW6-49aN",
        "colab_type": "text"
      },
      "source": [
        "**Use the list given below:**<br>\n",
        "numbers = [21, 23, 443, 355, 743, 823, 110, 1241, 3673, 352, 278, 37, 7]"
      ]
    },
    {
      "cell_type": "code",
      "metadata": {
        "id": "sq6dhchA49aP",
        "colab_type": "code",
        "colab": {
          "base_uri": "https://localhost:8080/",
          "height": 34
        },
        "outputId": "3a44d089-f5b6-472f-aea7-126007f72be5"
      },
      "source": [
        "numbers = [21, 23, 443, 355, 743, 823, 110, 1241, 3673, 352, 278, 37, 7]\n",
        "store=list(filter(lambda x:(x%2==0),numbers))\n",
        "print(store)\n"
      ],
      "execution_count": 22,
      "outputs": [
        {
          "output_type": "stream",
          "text": [
            "[110, 352, 278]\n"
          ],
          "name": "stdout"
        }
      ]
    },
    {
      "cell_type": "code",
      "metadata": {
        "id": "lLrE6tKF91Y9",
        "colab_type": "code",
        "colab": {}
      },
      "source": [
        ""
      ],
      "execution_count": 0,
      "outputs": []
    }
  ]
}