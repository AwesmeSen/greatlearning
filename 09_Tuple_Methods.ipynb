{
  "nbformat": 4,
  "nbformat_minor": 0,
  "metadata": {
    "kernelspec": {
      "display_name": "Python 3",
      "language": "python",
      "name": "python3"
    },
    "language_info": {
      "codemirror_mode": {
        "name": "ipython",
        "version": 3
      },
      "file_extension": ".py",
      "mimetype": "text/x-python",
      "name": "python",
      "nbconvert_exporter": "python",
      "pygments_lexer": "ipython3",
      "version": "3.7.3"
    },
    "colab": {
      "name": "09 - Tuple Methods.ipynb",
      "provenance": []
    }
  },
  "cells": [
    {
      "cell_type": "markdown",
      "metadata": {
        "id": "xjTb30jVJ-U5",
        "colab_type": "text"
      },
      "source": [
        "## Tuples Methods Topic"
      ]
    },
    {
      "cell_type": "markdown",
      "metadata": {
        "id": "OVGCojz7J-U_",
        "colab_type": "text"
      },
      "source": [
        "<table align=\"left\">\n",
        "    <tr>\n",
        "        <td width=\"6%\">\n",
        "            <img src=\"question_icon.png\">\n",
        "        </td>\n",
        "        <td>\n",
        "            <div align=\"left\", style=\"font-size:120%\">\n",
        "                <font color=\"#21618C\">\n",
        "                    <b>7. Tuple manipulations:<br><br>\n",
        "                        a. Add new element '4' to the given tuple<br>\n",
        "                        b. Replace an element\n",
        "                    </b>\n",
        "                </font>\n",
        "            </div>\n",
        "        </td>\n",
        "    </tr>\n",
        "</table>"
      ]
    },
    {
      "cell_type": "markdown",
      "metadata": {
        "id": "Mibm-n6jJ-VB",
        "colab_type": "text"
      },
      "source": [
        "**Use the tuple below:**\n",
        "\n",
        "tuple1 = (['a', 1, True], 2, 'Science', -5)"
      ]
    },
    {
      "cell_type": "markdown",
      "metadata": {
        "id": "bS3S4ThZJ-VD",
        "colab_type": "text"
      },
      "source": [
        "**a. Add new element '4' to the given tuple**"
      ]
    },
    {
      "cell_type": "code",
      "metadata": {
        "id": "WNftasevJ-VE",
        "colab_type": "code",
        "colab": {
          "base_uri": "https://localhost:8080/",
          "height": 34
        },
        "outputId": "5ab7732b-37b3-4bdd-ed3e-73af3cf63f03"
      },
      "source": [
        "tuple1 = (['a', 1, True], 2, 'Science', -5)\n",
        "tuple1=tuple1+ (4,)\n",
        "print(tuple1)"
      ],
      "execution_count": 2,
      "outputs": [
        {
          "output_type": "stream",
          "text": [
            "(['a', 1, True], 2, 'Science', -5, 4)\n"
          ],
          "name": "stdout"
        }
      ]
    },
    {
      "cell_type": "markdown",
      "metadata": {
        "id": "tfclzuz_J-VK",
        "colab_type": "text"
      },
      "source": [
        "**b. Replace an element**"
      ]
    },
    {
      "cell_type": "markdown",
      "metadata": {
        "id": "97fL-5n-J-VM",
        "colab_type": "text"
      },
      "source": [
        "**Replace '2' with '3' in tuple1 = (['a', 1, True], 2, 'Science', -5)**"
      ]
    },
    {
      "cell_type": "code",
      "metadata": {
        "id": "3mTeqAnDJ-VN",
        "colab_type": "code",
        "colab": {
          "base_uri": "https://localhost:8080/",
          "height": 34
        },
        "outputId": "a1794142-78eb-45fc-d8ca-1ed95dc0a0aa"
      },
      "source": [
        "tuple1 = (['a', 1, True], 2, 'Science', -5)\n",
        "arr=list(tuple1)\n",
        "for i in arr:\n",
        "  if i==2:\n",
        "    save=arr.index(i)\n",
        "    arr.remove(i)\n",
        "    arr.insert(save,3)\n",
        "# print(tuple(arr))\n",
        "\n",
        "tuple1=tuple(arr)\n",
        "print(tuple1)"
      ],
      "execution_count": 7,
      "outputs": [
        {
          "output_type": "stream",
          "text": [
            "(['a', 1, True], 3, 'Science', -5)\n"
          ],
          "name": "stdout"
        }
      ]
    },
    {
      "cell_type": "code",
      "metadata": {
        "id": "abX-bn5LRl7N",
        "colab_type": "code",
        "colab": {}
      },
      "source": [
        ""
      ],
      "execution_count": 0,
      "outputs": []
    }
  ]
}