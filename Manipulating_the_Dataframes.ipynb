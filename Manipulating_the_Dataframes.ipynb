{
  "nbformat": 4,
  "nbformat_minor": 0,
  "metadata": {
    "colab": {
      "name": "Manipulating the Dataframes.ipynb",
      "provenance": [],
      "collapsed_sections": []
    },
    "kernelspec": {
      "display_name": "Python 3",
      "language": "python",
      "name": "python3"
    },
    "language_info": {
      "codemirror_mode": {
        "name": "ipython",
        "version": 3
      },
      "file_extension": ".py",
      "mimetype": "text/x-python",
      "name": "python",
      "nbconvert_exporter": "python",
      "pygments_lexer": "ipython3",
      "version": "3.7.3"
    }
  },
  "cells": [
    {
      "cell_type": "markdown",
      "metadata": {
        "colab_type": "text",
        "id": "MPtNGrWq1OsW"
      },
      "source": [
        "## Manipulating the Dataframes"
      ]
    },
    {
      "cell_type": "markdown",
      "metadata": {
        "colab_type": "text",
        "id": "OTIx_-rf253t"
      },
      "source": [
        "#### Write a program to select the rows, where the sales are greater than 60000 for Mumbai location"
      ]
    },
    {
      "cell_type": "markdown",
      "metadata": {
        "colab_type": "text",
        "id": "sXl2CdOC1dmS"
      },
      "source": [
        "df_store = pd.DataFrame({'Store': ['A', 'B', 'A', 'C', 'D', 'A', 'D', 'A', 'C', 'B'],\n",
        "\n",
        "'Location': ['Mumbai', 'Pune', 'Hyderabad', 'Mumbai', 'Pune', 'Delhi', 'Hyderabad', 'Pune',\n",
        "'Mumbai', 'Pune'],\n",
        "\n",
        "'Sales': [40000, 45600, 56000, 90000, 89000, 87000, 85000, 78000, 89000, 70000]\n",
        "})"
      ]
    },
    {
      "cell_type": "code",
      "metadata": {
        "id": "1ZG3t2aSrCOl",
        "colab_type": "code",
        "colab": {
          "base_uri": "https://localhost:8080/",
          "height": 68
        },
        "outputId": "36047adc-6422-456f-8950-1f30aae04a13"
      },
      "source": [
        "import pandas as pd\n",
        "df_store = pd.DataFrame({'Store': ['A', 'B', 'A', 'C', 'D', 'A', 'D', 'A', 'C', 'B'],\n",
        "\n",
        "'Location': ['Mumbai', 'Pune', 'Hyderabad', 'Mumbai', 'Pune', 'Delhi', 'Hyderabad', 'Pune', 'Mumbai', 'Pune'],\n",
        "\n",
        "'Sales': [40000, 45600, 56000, 90000, 89000, 87000, 85000, 78000, 89000, 70000] })\n",
        "\n",
        "\n",
        "\n",
        "select=df_store.loc[(df_store['Sales']>60000) & (df_store['Location']=='Mumbai')]\n",
        "\n",
        "print(select)"
      ],
      "execution_count": 17,
      "outputs": [
        {
          "output_type": "stream",
          "text": [
            "  Store Location  Sales\n",
            "3     C   Mumbai  90000\n",
            "8     C   Mumbai  89000\n"
          ],
          "name": "stdout"
        }
      ]
    },
    {
      "cell_type": "markdown",
      "metadata": {
        "colab_type": "text",
        "id": "eJ2arP2h4qhb"
      },
      "source": [
        "-------------------"
      ]
    },
    {
      "cell_type": "markdown",
      "metadata": {
        "colab_type": "text",
        "id": "HzzhO6O_3IGm"
      },
      "source": [
        "#### 2. Write a program to replace the ‘Store' column, contains the values 'A', 'B', 'C', and 'D' with 'Store_A', Store_B', 'Store_C' and 'Store_D' respectively"
      ]
    },
    {
      "cell_type": "code",
      "metadata": {
        "id": "aw-fh0rwrCOs",
        "colab_type": "code",
        "colab": {
          "base_uri": "https://localhost:8080/",
          "height": 204
        },
        "outputId": "6b61d8ae-9ec2-418b-b9d6-43757019a3ee"
      },
      "source": [
        "df_store[\"Store\"].replace({\"A\":'Store_A',\"B\":\"Store_B\",\"C\":\"Store_C\",\"D\":\"Store_D\"},inplace=True)\n",
        "\n",
        "print(df_store)"
      ],
      "execution_count": 26,
      "outputs": [
        {
          "output_type": "stream",
          "text": [
            "     Store   Location  Sales\n",
            "0  Store_A     Mumbai  40000\n",
            "1  Store_B       Pune  45600\n",
            "2  Store_A  Hyderabad  56000\n",
            "3  Store_C     Mumbai  90000\n",
            "4  Store_D       Pune  89000\n",
            "5  Store_A      Delhi  87000\n",
            "6  Store_D  Hyderabad  85000\n",
            "7  Store_A       Pune  78000\n",
            "8  Store_C     Mumbai  89000\n",
            "9  Store_B       Pune  70000\n"
          ],
          "name": "stdout"
        }
      ]
    },
    {
      "cell_type": "code",
      "metadata": {
        "id": "ifabK9yZt_Dp",
        "colab_type": "code",
        "colab": {}
      },
      "source": [
        ""
      ],
      "execution_count": 0,
      "outputs": []
    }
  ]
}