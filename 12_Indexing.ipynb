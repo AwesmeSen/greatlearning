{
  "nbformat": 4,
  "nbformat_minor": 0,
  "metadata": {
    "kernelspec": {
      "display_name": "Python 3",
      "language": "python",
      "name": "python3"
    },
    "language_info": {
      "codemirror_mode": {
        "name": "ipython",
        "version": 3
      },
      "file_extension": ".py",
      "mimetype": "text/x-python",
      "name": "python",
      "nbconvert_exporter": "python",
      "pygments_lexer": "ipython3",
      "version": "3.7.3"
    },
    "colab": {
      "name": "12 - Indexing.ipynb",
      "provenance": []
    }
  },
  "cells": [
    {
      "cell_type": "markdown",
      "metadata": {
        "id": "F1w7H3noBVzj",
        "colab_type": "text"
      },
      "source": [
        "## Indexing \n"
      ]
    },
    {
      "cell_type": "markdown",
      "metadata": {
        "id": "FYY9wNn4BVzn",
        "colab_type": "text"
      },
      "source": [
        "**One can not perform element-wise multiplication of lists using the above method.** "
      ]
    },
    {
      "cell_type": "markdown",
      "metadata": {
        "id": "7xVJoS9HBVzp",
        "colab_type": "text"
      },
      "source": [
        "<table align=\"left\">\n",
        "    <tr>\n",
        "        <td width=\"6%\">\n",
        "            <img src=\"question_icon.png\">\n",
        "        </td>\n",
        "        <td>\n",
        "            <div align=\"left\", style=\"font-size:120%\">\n",
        "                <font color=\"#21618C\">\n",
        "                    <b>Write a code to retrieve elements from a list<br>\n",
        "                        <br> a. Second last element\n",
        "                        <br> b. First three elements \n",
        "                                           </b>\n",
        "                </font>\n",
        "            </div>\n",
        "        </td>\n",
        "    </tr>\n",
        "</table>"
      ]
    },
    {
      "cell_type": "markdown",
      "metadata": {
        "id": "lENtSon5BVzq",
        "colab_type": "text"
      },
      "source": [
        "**Use the below list**\n",
        "\n",
        "list1 = ['Python', 1, 2, 3, 'Data', True] "
      ]
    },
    {
      "cell_type": "markdown",
      "metadata": {
        "id": "wi7xehTNBVzr",
        "colab_type": "text"
      },
      "source": [
        "**a. Second last element**"
      ]
    },
    {
      "cell_type": "code",
      "metadata": {
        "id": "wvPHmIeABVzs",
        "colab_type": "code",
        "colab": {
          "base_uri": "https://localhost:8080/",
          "height": 34
        },
        "outputId": "210f047b-d4a9-43b8-ca5f-e131dd88f440"
      },
      "source": [
        "list1=['Python', 1, 2, 3, 'Data', True]\n",
        "print(list1[-2])"
      ],
      "execution_count": 3,
      "outputs": [
        {
          "output_type": "stream",
          "text": [
            "Data\n"
          ],
          "name": "stdout"
        }
      ]
    },
    {
      "cell_type": "markdown",
      "metadata": {
        "id": "ip2tPZTVBVzw",
        "colab_type": "text"
      },
      "source": [
        "**b. First three elements**"
      ]
    },
    {
      "cell_type": "code",
      "metadata": {
        "id": "_J5l7vcvBVzx",
        "colab_type": "code",
        "colab": {
          "base_uri": "https://localhost:8080/",
          "height": 34
        },
        "outputId": "0d999c85-234a-42c2-eb13-a74ab8f03480"
      },
      "source": [
        "new=list1[:3]\n",
        "for i in new:\n",
        "  print(i,end=' ')"
      ],
      "execution_count": 7,
      "outputs": [
        {
          "output_type": "stream",
          "text": [
            "Python 1 2 "
          ],
          "name": "stdout"
        }
      ]
    },
    {
      "cell_type": "code",
      "metadata": {
        "id": "Pgb5ua7RBgWu",
        "colab_type": "code",
        "colab": {}
      },
      "source": [
        ""
      ],
      "execution_count": 0,
      "outputs": []
    }
  ]
}