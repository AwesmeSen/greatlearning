{
  "nbformat": 4,
  "nbformat_minor": 0,
  "metadata": {
    "colab": {
      "name": "Duplicate.ipynb",
      "provenance": [],
      "collapsed_sections": []
    },
    "kernelspec": {
      "display_name": "Python 3",
      "language": "python",
      "name": "python3"
    },
    "language_info": {
      "codemirror_mode": {
        "name": "ipython",
        "version": 3
      },
      "file_extension": ".py",
      "mimetype": "text/x-python",
      "name": "python",
      "nbconvert_exporter": "python",
      "pygments_lexer": "ipython3",
      "version": "3.7.3"
    }
  },
  "cells": [
    {
      "cell_type": "markdown",
      "metadata": {
        "colab_type": "text",
        "id": "Qreiav8HDQ63"
      },
      "source": [
        "### Select duplicate rows, which occurrence last based on all columns"
      ]
    },
    {
      "cell_type": "code",
      "metadata": {
        "colab_type": "code",
        "id": "m1PvabCtCWG9",
        "outputId": "1bf1faab-0bc1-4ca1-ebfb-e7bd5e39c9e3",
        "colab": {
          "base_uri": "https://localhost:8080/",
          "height": 297
        }
      },
      "source": [
        "import pandas as pd \n",
        "df_employee = [('John', 3400, 'Sydeny'),\n",
        "            ('Robert', 3000, 'Chicago'),\n",
        "            ('Aadi', 1600, 'New York'),\n",
        "            ('Robert', 3000, 'Chicago'),\n",
        "            ('Robert', 3000, 'Chicago'),\n",
        "            ('Robert', 3000, 'Texas'),\n",
        "            ('Aadi', 4000, 'London'),\n",
        "            ('Sachin', 3000, 'Chicago')\n",
        "            ]\n",
        " \n",
        "# Create a DataFrame object\n",
        "df_employee = pd.DataFrame(df_employee, columns=['Name', 'Salary', 'City'])\n",
        "\n",
        "df_employee"
      ],
      "execution_count": 1,
      "outputs": [
        {
          "output_type": "execute_result",
          "data": {
            "text/html": [
              "<div>\n",
              "<style scoped>\n",
              "    .dataframe tbody tr th:only-of-type {\n",
              "        vertical-align: middle;\n",
              "    }\n",
              "\n",
              "    .dataframe tbody tr th {\n",
              "        vertical-align: top;\n",
              "    }\n",
              "\n",
              "    .dataframe thead th {\n",
              "        text-align: right;\n",
              "    }\n",
              "</style>\n",
              "<table border=\"1\" class=\"dataframe\">\n",
              "  <thead>\n",
              "    <tr style=\"text-align: right;\">\n",
              "      <th></th>\n",
              "      <th>Name</th>\n",
              "      <th>Salary</th>\n",
              "      <th>City</th>\n",
              "    </tr>\n",
              "  </thead>\n",
              "  <tbody>\n",
              "    <tr>\n",
              "      <th>0</th>\n",
              "      <td>John</td>\n",
              "      <td>3400</td>\n",
              "      <td>Sydeny</td>\n",
              "    </tr>\n",
              "    <tr>\n",
              "      <th>1</th>\n",
              "      <td>Robert</td>\n",
              "      <td>3000</td>\n",
              "      <td>Chicago</td>\n",
              "    </tr>\n",
              "    <tr>\n",
              "      <th>2</th>\n",
              "      <td>Aadi</td>\n",
              "      <td>1600</td>\n",
              "      <td>New York</td>\n",
              "    </tr>\n",
              "    <tr>\n",
              "      <th>3</th>\n",
              "      <td>Robert</td>\n",
              "      <td>3000</td>\n",
              "      <td>Chicago</td>\n",
              "    </tr>\n",
              "    <tr>\n",
              "      <th>4</th>\n",
              "      <td>Robert</td>\n",
              "      <td>3000</td>\n",
              "      <td>Chicago</td>\n",
              "    </tr>\n",
              "    <tr>\n",
              "      <th>5</th>\n",
              "      <td>Robert</td>\n",
              "      <td>3000</td>\n",
              "      <td>Texas</td>\n",
              "    </tr>\n",
              "    <tr>\n",
              "      <th>6</th>\n",
              "      <td>Aadi</td>\n",
              "      <td>4000</td>\n",
              "      <td>London</td>\n",
              "    </tr>\n",
              "    <tr>\n",
              "      <th>7</th>\n",
              "      <td>Sachin</td>\n",
              "      <td>3000</td>\n",
              "      <td>Chicago</td>\n",
              "    </tr>\n",
              "  </tbody>\n",
              "</table>\n",
              "</div>"
            ],
            "text/plain": [
              "     Name  Salary      City\n",
              "0    John    3400    Sydeny\n",
              "1  Robert    3000   Chicago\n",
              "2    Aadi    1600  New York\n",
              "3  Robert    3000   Chicago\n",
              "4  Robert    3000   Chicago\n",
              "5  Robert    3000     Texas\n",
              "6    Aadi    4000    London\n",
              "7  Sachin    3000   Chicago"
            ]
          },
          "metadata": {
            "tags": []
          },
          "execution_count": 1
        }
      ]
    },
    {
      "cell_type": "code",
      "metadata": {
        "colab_type": "code",
        "id": "ASLvB_fXDllw",
        "outputId": "4a8c7378-2d12-451a-a3d5-33b8f93eceaf",
        "colab": {
          "base_uri": "https://localhost:8080/",
          "height": 34
        }
      },
      "source": [
        "# Write the code here:\n",
        "\n",
        "df=df_employee[df_employee.duplicated()]\n",
        "store=list((df['Name']))\n",
        "print(store[-1])"
      ],
      "execution_count": 19,
      "outputs": [
        {
          "output_type": "stream",
          "text": [
            "Robert\n"
          ],
          "name": "stdout"
        }
      ]
    },
    {
      "cell_type": "code",
      "metadata": {
        "colab_type": "code",
        "id": "g1igY8HgDo8o",
        "colab": {}
      },
      "source": [
        ""
      ],
      "execution_count": 0,
      "outputs": []
    }
  ]
}