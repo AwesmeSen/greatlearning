{
  "nbformat": 4,
  "nbformat_minor": 0,
  "metadata": {
    "colab": {
      "name": "Encoding Categorical Data.ipynb",
      "provenance": []
    },
    "kernelspec": {
      "display_name": "Python 3",
      "language": "python",
      "name": "python3"
    },
    "language_info": {
      "codemirror_mode": {
        "name": "ipython",
        "version": 3
      },
      "file_extension": ".py",
      "mimetype": "text/x-python",
      "name": "python",
      "nbconvert_exporter": "python",
      "pygments_lexer": "ipython3",
      "version": "3.7.3"
    }
  },
  "cells": [
    {
      "cell_type": "markdown",
      "metadata": {
        "id": "kNxgeRSSeSOC",
        "colab_type": "text"
      },
      "source": [
        "### One Hot Encoding"
      ]
    },
    {
      "cell_type": "markdown",
      "metadata": {
        "id": "Lf4kKp11eSOE",
        "colab_type": "text"
      },
      "source": [
        "sklearn also provides a function to perform a one-hot encoding of the categorical variable. Let us use 'OneHotEncoder' from skelarn to encode the variable 'sex'."
      ]
    },
    {
      "cell_type": "code",
      "metadata": {
        "id": "rMZbEfcLeSOG",
        "colab_type": "code",
        "colab": {
          "base_uri": "https://localhost:8080/",
          "height": 204
        },
        "outputId": "886e935c-543b-4c8f-cec9-faf3f2daf909"
      },
      "source": [
        "# import the OneHotEncoder\n",
        "import pandas as pd \n",
        "# from sklearn.preprocessing import OneHotEncoder \n",
        "df=pd.read_csv(\"suicide_data (1).csv\")\n",
        "# df.head()\n",
        "\n",
        "# # instantiate the encoder\n",
        "x = df.iloc[:, 2:3].values\n",
        "# print(x)\n",
        "onehotencoder = OneHotEncoder()\n",
        "encoded_var= onehotencoder.fit_transform(x).toarray()\n",
        "\n",
        "# # fit the encoder on 'sex'\n",
        "# # 'encoded_var' returns an array of encoded variables\n",
        "\n",
        "encoded_var\n",
        "# # create a dataframe of encoded columns\n",
        "# df['encoded_var']=encoded_var\n",
        "df_encoded=pd.DataFrame(data=encoded_var,columns=[\"sex_male\",\"sex_female\"])\n",
        "\n",
        "# pd.get_dummies(df, columns=[\"sex\"]).head()\n",
        "df_encoded.head()"
      ],
      "execution_count": 20,
      "outputs": [
        {
          "output_type": "execute_result",
          "data": {
            "text/html": [
              "<div>\n",
              "<style scoped>\n",
              "    .dataframe tbody tr th:only-of-type {\n",
              "        vertical-align: middle;\n",
              "    }\n",
              "\n",
              "    .dataframe tbody tr th {\n",
              "        vertical-align: top;\n",
              "    }\n",
              "\n",
              "    .dataframe thead th {\n",
              "        text-align: right;\n",
              "    }\n",
              "</style>\n",
              "<table border=\"1\" class=\"dataframe\">\n",
              "  <thead>\n",
              "    <tr style=\"text-align: right;\">\n",
              "      <th></th>\n",
              "      <th>sex_male</th>\n",
              "      <th>sex_female</th>\n",
              "    </tr>\n",
              "  </thead>\n",
              "  <tbody>\n",
              "    <tr>\n",
              "      <th>0</th>\n",
              "      <td>0.0</td>\n",
              "      <td>1.0</td>\n",
              "    </tr>\n",
              "    <tr>\n",
              "      <th>1</th>\n",
              "      <td>0.0</td>\n",
              "      <td>1.0</td>\n",
              "    </tr>\n",
              "    <tr>\n",
              "      <th>2</th>\n",
              "      <td>1.0</td>\n",
              "      <td>0.0</td>\n",
              "    </tr>\n",
              "    <tr>\n",
              "      <th>3</th>\n",
              "      <td>0.0</td>\n",
              "      <td>1.0</td>\n",
              "    </tr>\n",
              "    <tr>\n",
              "      <th>4</th>\n",
              "      <td>0.0</td>\n",
              "      <td>1.0</td>\n",
              "    </tr>\n",
              "  </tbody>\n",
              "</table>\n",
              "</div>"
            ],
            "text/plain": [
              "   sex_male  sex_female\n",
              "0       0.0         1.0\n",
              "1       0.0         1.0\n",
              "2       1.0         0.0\n",
              "3       0.0         1.0\n",
              "4       0.0         1.0"
            ]
          },
          "metadata": {
            "tags": []
          },
          "execution_count": 20
        }
      ]
    },
    {
      "cell_type": "markdown",
      "metadata": {
        "id": "4KxB_lP9eSOK",
        "colab_type": "text"
      },
      "source": [
        "### Label Encoding"
      ]
    },
    {
      "cell_type": "markdown",
      "metadata": {
        "id": "CGEvG2OneSOL",
        "colab_type": "text"
      },
      "source": [
        "This technique labels each of the categories of the variable with values between 0 and (n-1), where 'n' is the number of distinct categories in the variable. If the category is repeating in the data, then the same label gets assigned."
      ]
    },
    {
      "cell_type": "markdown",
      "metadata": {
        "id": "5CgC4f7QeSOM",
        "colab_type": "text"
      },
      "source": [
        "Use 'LabelEncoder' from sklearn to encode the variable 'generation'"
      ]
    },
    {
      "cell_type": "code",
      "metadata": {
        "id": "Qf2eQRpHeSON",
        "colab_type": "code",
        "colab": {
          "base_uri": "https://localhost:8080/",
          "height": 51
        },
        "outputId": "42346c03-6d6e-4875-bd96-f89842957722"
      },
      "source": [
        "# check the categories in 'generation'\n",
        "df['generation'].unique()"
      ],
      "execution_count": 8,
      "outputs": [
        {
          "output_type": "execute_result",
          "data": {
            "text/plain": [
              "array(['Generation X', 'Silent', 'G.I. Generation', 'Boomers',\n",
              "       'Millenials', 'Generation Z'], dtype=object)"
            ]
          },
          "metadata": {
            "tags": []
          },
          "execution_count": 8
        }
      ]
    },
    {
      "cell_type": "code",
      "metadata": {
        "id": "t3nHPxrbeSOQ",
        "colab_type": "code",
        "colab": {
          "base_uri": "https://localhost:8080/",
          "height": 156
        },
        "outputId": "8b8c96e9-4474-4e26-ff8c-0c4797c08a80"
      },
      "source": [
        "# import the LabelEncoder\n",
        "from sklearn.preprocessing import LabelEncoder\n",
        "\n",
        "# instantiate the encoder\n",
        "labelencoder=LabelEncoder()\n",
        "y = df.iloc[:, -1:].values\n",
        "# y.ravel(len(y),)\n",
        "# print(y)\n",
        "# fit the encoder on 'generation' \n",
        "# df.head()\n",
        "# y[]\n",
        "# display first 5 observations\n",
        "encoder_gen=labelencoder.fit_transform(y)\n",
        "c=0\n",
        "for i in encoder_gen:\n",
        "  print(i)\n",
        "  c+=1\n",
        "  if c==5:\n",
        "    break\n"
      ],
      "execution_count": 29,
      "outputs": [
        {
          "output_type": "stream",
          "text": [
            "2\n",
            "5\n",
            "2\n",
            "1\n",
            "0\n"
          ],
          "name": "stdout"
        },
        {
          "output_type": "stream",
          "text": [
            "/usr/local/lib/python3.6/dist-packages/sklearn/preprocessing/_label.py:251: DataConversionWarning: A column-vector y was passed when a 1d array was expected. Please change the shape of y to (n_samples, ), for example using ravel().\n",
            "  y = column_or_1d(y, warn=True)\n"
          ],
          "name": "stderr"
        }
      ]
    },
    {
      "cell_type": "markdown",
      "metadata": {
        "id": "7hRehjS4eSOU",
        "colab_type": "text"
      },
      "source": [
        "LabelEncoder has encoded the six generations. This method is not always useful, as it creates the order in the label which is not present in the original variable. This method assigns the order to the categories in an alphabetical manner."
      ]
    }
  ]
}