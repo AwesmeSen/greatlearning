{
  "nbformat": 4,
  "nbformat_minor": 0,
  "metadata": {
    "colab": {
      "name": "Arithmetic Functioning in Numpy.ipynb",
      "provenance": [],
      "collapsed_sections": []
    },
    "kernelspec": {
      "display_name": "Python 3",
      "language": "python",
      "name": "python3"
    },
    "language_info": {
      "codemirror_mode": {
        "name": "ipython",
        "version": 3
      },
      "file_extension": ".py",
      "mimetype": "text/x-python",
      "name": "python",
      "nbconvert_exporter": "python",
      "pygments_lexer": "ipython3",
      "version": "3.7.3"
    }
  },
  "cells": [
    {
      "cell_type": "markdown",
      "metadata": {
        "colab_type": "text",
        "id": "1G2DkO4ySulP"
      },
      "source": [
        "#### 1. Replace all odd numbers in array with -2\n"
      ]
    },
    {
      "cell_type": "markdown",
      "metadata": {
        "colab_type": "text",
        "id": "loieIV4rTWsd"
      },
      "source": [
        "Use the array given below\n",
        "\n",
        "arr = np.array([0, 31, 42, 43, 34, 45, 26, 27, 38, 94, 65, 78, 76])"
      ]
    },
    {
      "cell_type": "code",
      "metadata": {
        "id": "JiUoqCIpm9BA",
        "colab_type": "code",
        "colab": {
          "base_uri": "https://localhost:8080/",
          "height": 34
        },
        "outputId": "9b20fe6b-3803-4c1d-bec2-006f954d0e79"
      },
      "source": [
        "import numpy as np \n",
        "arr = np.array([0, 31, 42, 43, 34, 45, 26, 27, 38, 94, 65, 78, 76])\n",
        "arr[arr%2!=0]=-2\n",
        "print(arr)"
      ],
      "execution_count": 2,
      "outputs": [
        {
          "output_type": "stream",
          "text": [
            "[ 0 -2 42 -2 34 -2 26 -2 38 94 -2 78 76]\n"
          ],
          "name": "stdout"
        }
      ]
    },
    {
      "cell_type": "code",
      "metadata": {
        "id": "le1jj_zOm9BF",
        "colab_type": "code",
        "colab": {}
      },
      "source": [
        ""
      ],
      "execution_count": 0,
      "outputs": []
    },
    {
      "cell_type": "markdown",
      "metadata": {
        "colab_type": "text",
        "id": "K5CH2GxGVNTt"
      },
      "source": [
        "#### 2. Write a program to calculate the sum of each column"
      ]
    },
    {
      "cell_type": "markdown",
      "metadata": {
        "colab_type": "text",
        "id": "ExTHeVQiVWCr"
      },
      "source": [
        "Use the array given below: (or create your own array)\n",
        "\n",
        "A = [[1, 4, 8], [5, 7, 3], [9, 14, 2]]"
      ]
    },
    {
      "cell_type": "code",
      "metadata": {
        "id": "F1IpLmxcm9BK",
        "colab_type": "code",
        "colab": {
          "base_uri": "https://localhost:8080/",
          "height": 34
        },
        "outputId": "147a381a-a787-4907-e4d6-3561a9401f50"
      },
      "source": [
        "A = [[1, 4, 8], [5, 7, 3], [9, 14, 2]]\n",
        "arr1=np.array(A)\n",
        "# print(arr1)\n",
        "total=np.sum(arr1,axis=0)\n",
        "print(total)"
      ],
      "execution_count": 5,
      "outputs": [
        {
          "output_type": "stream",
          "text": [
            "[15 25 13]\n"
          ],
          "name": "stdout"
        }
      ]
    },
    {
      "cell_type": "markdown",
      "metadata": {
        "colab_type": "text",
        "id": "sgyPAZBuVu_P"
      },
      "source": [
        "\t\n",
        "#### 3.  Write a code to get the element-wise remainder of an array after division by 8"
      ]
    },
    {
      "cell_type": "code",
      "metadata": {
        "colab_type": "code",
        "id": "hirePL8OV4fJ",
        "colab": {
          "base_uri": "https://localhost:8080/",
          "height": 34
        },
        "outputId": "c91d5de0-7cb8-4ac4-ac99-2b70dd44bdcf"
      },
      "source": [
        "num = [42, 87, 90, 14, 32, 75, 61, 80, 92]\n",
        "arr2=np.array(num)\n",
        "store=np.remainder(arr2,8)\n",
        "print(store)\n",
        "# convert the list to array\n"
      ],
      "execution_count": 6,
      "outputs": [
        {
          "output_type": "stream",
          "text": [
            "[2 7 2 6 0 3 5 0 4]\n"
          ],
          "name": "stdout"
        }
      ]
    },
    {
      "cell_type": "code",
      "metadata": {
        "id": "cRjy_uWlpBo5",
        "colab_type": "code",
        "colab": {}
      },
      "source": [
        ""
      ],
      "execution_count": 0,
      "outputs": []
    }
  ]
}