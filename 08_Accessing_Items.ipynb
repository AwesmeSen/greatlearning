{
  "nbformat": 4,
  "nbformat_minor": 0,
  "metadata": {
    "kernelspec": {
      "display_name": "Python 3",
      "language": "python",
      "name": "python3"
    },
    "language_info": {
      "codemirror_mode": {
        "name": "ipython",
        "version": 3
      },
      "file_extension": ".py",
      "mimetype": "text/x-python",
      "name": "python",
      "nbconvert_exporter": "python",
      "pygments_lexer": "ipython3",
      "version": "3.7.3"
    },
    "colab": {
      "name": "08 - Accessing Items.ipynb",
      "provenance": []
    }
  },
  "cells": [
    {
      "cell_type": "markdown",
      "metadata": {
        "id": "Tpa2QZMpSVoG",
        "colab_type": "text"
      },
      "source": [
        "\n",
        "### Accessing Items\n"
      ]
    },
    {
      "cell_type": "markdown",
      "metadata": {
        "id": "S6B7zeVfSVoO",
        "colab_type": "text"
      },
      "source": [
        "<table align=\"left\">\n",
        "    <tr>\n",
        "        <td width=\"6%\">\n",
        "            <img src=\"question_icon.png\">\n",
        "        </td>\n",
        "        <td>\n",
        "            <div align=\"left\", style=\"font-size:120%\">\n",
        "                <font color=\"#21618C\">\n",
        "                    <b>1. Write a program to retrieve the keys/values of dictionary </b>\n",
        "                </font>\n",
        "            </div>\n",
        "        </td>\n",
        "    </tr>\n",
        "</table>"
      ]
    },
    {
      "cell_type": "markdown",
      "metadata": {
        "id": "djbqI5vhSVoR",
        "colab_type": "text"
      },
      "source": [
        "**Use the dictionary**\n",
        "\n",
        "dictionary2 = {0:3, 'x':5, 1:2}"
      ]
    },
    {
      "cell_type": "code",
      "metadata": {
        "id": "VRn2SD0vSVoU",
        "colab_type": "code",
        "colab": {
          "base_uri": "https://localhost:8080/",
          "height": 102
        },
        "outputId": "febb32e2-c145-4cc7-fc5f-edd54e69254e"
      },
      "source": [
        "dictionary2 = {0:3, 'x':5, 1:2}\n",
        "keys=[]\n",
        "values=[]\n",
        "for key in dictionary2:\n",
        "  print(key,dictionary2[key])\n",
        "  keys.append(key)\n",
        "  values.append(dictionary2[key])\n",
        "\n",
        "print(keys)\n",
        "print(values)"
      ],
      "execution_count": 5,
      "outputs": [
        {
          "output_type": "stream",
          "text": [
            "0 3\n",
            "x 5\n",
            "1 2\n",
            "[0, 'x', 1]\n",
            "[3, 5, 2]\n"
          ],
          "name": "stdout"
        }
      ]
    },
    {
      "cell_type": "markdown",
      "metadata": {
        "id": "LNI6tx2NSVoi",
        "colab_type": "text"
      },
      "source": [
        "<table align=\"left\">\n",
        "    <tr>\n",
        "        <td width=\"6%\">\n",
        "            <img src=\"question_icon.png\">\n",
        "        </td>\n",
        "        <td>\n",
        "            <div align=\"left\", style=\"font-size:120%\">\n",
        "                <font color=\"#21618C\">\n",
        "                    <b>2. Write a program to get the value for 'Age' from the dictionary</b>\n",
        "                </font>\n",
        "            </div>\n",
        "        </td>\n",
        "    </tr>\n",
        "</table>"
      ]
    },
    {
      "cell_type": "markdown",
      "metadata": {
        "id": "hwlMh2fRSVol",
        "colab_type": "text"
      },
      "source": [
        "**Use the dictionary**\n",
        "\n",
        "dictionary3 = {'Weight': 67, 'BMI': 25, 'Age': 27, 'Profession': 'CA'}"
      ]
    },
    {
      "cell_type": "code",
      "metadata": {
        "id": "MAO6RZl7SVon",
        "colab_type": "code",
        "colab": {
          "base_uri": "https://localhost:8080/",
          "height": 34
        },
        "outputId": "205bb16a-91d5-4b28-a97f-a12dc05f3721"
      },
      "source": [
        "dictionary3 = {'Weight': 67, 'BMI': 25, 'Age': 27, 'Profession': 'CA'}\n",
        "print(dictionary3[\"Age\"])"
      ],
      "execution_count": 7,
      "outputs": [
        {
          "output_type": "stream",
          "text": [
            "27\n"
          ],
          "name": "stdout"
        }
      ]
    },
    {
      "cell_type": "code",
      "metadata": {
        "id": "e_sz58mUWeW-",
        "colab_type": "code",
        "colab": {}
      },
      "source": [
        ""
      ],
      "execution_count": 0,
      "outputs": []
    }
  ]
}