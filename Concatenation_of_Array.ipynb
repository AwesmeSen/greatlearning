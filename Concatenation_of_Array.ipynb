{
  "nbformat": 4,
  "nbformat_minor": 0,
  "metadata": {
    "colab": {
      "name": "Concatenation of Array.ipynb",
      "provenance": [],
      "collapsed_sections": []
    },
    "kernelspec": {
      "display_name": "Python 3",
      "language": "python",
      "name": "python3"
    },
    "language_info": {
      "codemirror_mode": {
        "name": "ipython",
        "version": 3
      },
      "file_extension": ".py",
      "mimetype": "text/x-python",
      "name": "python",
      "nbconvert_exporter": "python",
      "pygments_lexer": "ipython3",
      "version": "3.7.3"
    }
  },
  "cells": [
    {
      "cell_type": "markdown",
      "metadata": {
        "colab_type": "text",
        "id": "TM8cf1O4X6W4"
      },
      "source": [
        "# 1. Stack two arrays vertically"
      ]
    },
    {
      "cell_type": "markdown",
      "metadata": {
        "colab_type": "text",
        "id": "s10hQC0_Y4zA"
      },
      "source": [
        "Use the array given below:\n",
        "\n",
        "array1 = np.arange(10).reshape(2,-1)\n",
        "\n",
        "array2 = np.repeat(1, 10).reshape(2,-1)"
      ]
    },
    {
      "cell_type": "code",
      "metadata": {
        "colab_type": "code",
        "id": "WMPdasVHZNc0",
        "colab": {
          "base_uri": "https://localhost:8080/",
          "height": 85
        },
        "outputId": "a037ab73-d8f5-4f30-e443-1e74ad22e738"
      },
      "source": [
        "import numpy as np\n",
        "array1 = np.arange(10).reshape(2,-1)\n",
        "# print(array1)\n",
        "array2 = np.repeat(1, 10).reshape(2,-1)\n",
        "# print(array2)\n",
        "ans=np.vstack((array1,array2))\n",
        "print(ans)\n"
      ],
      "execution_count": 6,
      "outputs": [
        {
          "output_type": "stream",
          "text": [
            "[[0 1 2 3 4]\n",
            " [5 6 7 8 9]\n",
            " [1 1 1 1 1]\n",
            " [1 1 1 1 1]]\n"
          ],
          "name": "stdout"
        }
      ]
    },
    {
      "cell_type": "code",
      "metadata": {
        "id": "81EjGNUopPci",
        "colab_type": "code",
        "colab": {}
      },
      "source": [
        ""
      ],
      "execution_count": 0,
      "outputs": []
    }
  ]
}