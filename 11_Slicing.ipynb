{
  "nbformat": 4,
  "nbformat_minor": 0,
  "metadata": {
    "kernelspec": {
      "display_name": "Python 3",
      "language": "python",
      "name": "python3"
    },
    "language_info": {
      "codemirror_mode": {
        "name": "ipython",
        "version": 3
      },
      "file_extension": ".py",
      "mimetype": "text/x-python",
      "name": "python",
      "nbconvert_exporter": "python",
      "pygments_lexer": "ipython3",
      "version": "3.7.3"
    },
    "colab": {
      "name": "11 - Slicing.ipynb",
      "provenance": []
    }
  },
  "cells": [
    {
      "cell_type": "markdown",
      "metadata": {
        "id": "DZ30ESknCqAB",
        "colab_type": "text"
      },
      "source": [
        "##  Slicing "
      ]
    },
    {
      "cell_type": "markdown",
      "metadata": {
        "id": "qvu8xRX3CqAE",
        "colab_type": "text"
      },
      "source": [
        "**One can not perform element-wise multiplication of lists using the above method.** "
      ]
    },
    {
      "cell_type": "markdown",
      "metadata": {
        "id": "2qYWf2UrCqAF",
        "colab_type": "text"
      },
      "source": [
        "<table align=\"left\">\n",
        "    <tr>\n",
        "        <td width=\"6%\">\n",
        "            <img src=\"question_icon.png\">\n",
        "        </td>\n",
        "        <td>\n",
        "            <div align=\"left\", style=\"font-size:120%\">\n",
        "                <font color=\"#21618C\">\n",
        "                    <b>\n",
        "                        <br> a. Slice the list from 1st index till the last index with an increment of an index by 2 \n",
        "                    </b>\n",
        "                </font>\n",
        "            </div>\n",
        "        </td>\n",
        "    </tr>\n",
        "</table>"
      ]
    },
    {
      "cell_type": "markdown",
      "metadata": {
        "id": "bE61bJrdCqAG",
        "colab_type": "text"
      },
      "source": [
        "**Use the below list**\n",
        "\n",
        "list1 = ['Python', 1, 2, 3, 'Data', True] "
      ]
    },
    {
      "cell_type": "code",
      "metadata": {
        "id": "1DwGg4cxCqAI",
        "colab_type": "code",
        "colab": {
          "base_uri": "https://localhost:8080/",
          "height": 34
        },
        "outputId": "247fadda-e6ea-4384-dd26-1c5c99c7b11e"
      },
      "source": [
        "list1 = ['Python', 1, 2, 3, 'Data', True]\n",
        "new=list1[1::2]\n",
        "print(new)"
      ],
      "execution_count": 5,
      "outputs": [
        {
          "output_type": "stream",
          "text": [
            "[1, 3, True]\n"
          ],
          "name": "stdout"
        }
      ]
    },
    {
      "cell_type": "code",
      "metadata": {
        "id": "tLhQV1aRFWHh",
        "colab_type": "code",
        "colab": {}
      },
      "source": [
        ""
      ],
      "execution_count": 0,
      "outputs": []
    }
  ]
}