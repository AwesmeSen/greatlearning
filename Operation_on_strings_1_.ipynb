{
  "nbformat": 4,
  "nbformat_minor": 0,
  "metadata": {
    "kernelspec": {
      "display_name": "Python 3",
      "language": "python",
      "name": "python3"
    },
    "language_info": {
      "codemirror_mode": {
        "name": "ipython",
        "version": 3
      },
      "file_extension": ".py",
      "mimetype": "text/x-python",
      "name": "python",
      "nbconvert_exporter": "python",
      "pygments_lexer": "ipython3",
      "version": "3.7.3"
    },
    "colab": {
      "name": "Operation on strings-1 .ipynb",
      "provenance": []
    }
  },
  "cells": [
    {
      "cell_type": "markdown",
      "metadata": {
        "id": "JOy0AUQf7_P_",
        "colab_type": "text"
      },
      "source": [
        "## 1). Given a string - 'Today is a sunny day'\n",
        "\n",
        "#### a). Write a code to get 'Today and ‘Sunny'\n",
        "\n",
        "#### b). Obtain the last 2 letters\n",
        "\n",
        "#### c). Write the statement backwards\n"
      ]
    },
    {
      "cell_type": "code",
      "metadata": {
        "id": "CU-LTqTd7_QC",
        "colab_type": "code",
        "colab": {
          "base_uri": "https://localhost:8080/",
          "height": 34
        },
        "outputId": "faa83366-141b-4545-ca99-96a1977a6dd5"
      },
      "source": [
        "name=\"Today is a sunny day\"\n",
        "name1=list(name.split(\" \"))\n",
        "n1=name1[0]\n",
        "n2=name1[-2].capitalize()\n",
        "print(n1,n2)\n"
      ],
      "execution_count": 3,
      "outputs": [
        {
          "output_type": "stream",
          "text": [
            "Today sunny\n"
          ],
          "name": "stdout"
        }
      ]
    },
    {
      "cell_type": "code",
      "metadata": {
        "id": "Ut3CIzDU7_QH",
        "colab_type": "code",
        "colab": {
          "base_uri": "https://localhost:8080/",
          "height": 34
        },
        "outputId": "261527ec-74fa-421a-c804-8414adc45ad9"
      },
      "source": [
        "name2=list(name)\n",
        "print(name2[-2],name2[-1])"
      ],
      "execution_count": 6,
      "outputs": [
        {
          "output_type": "stream",
          "text": [
            "a y\n"
          ],
          "name": "stdout"
        }
      ]
    },
    {
      "cell_type": "code",
      "metadata": {
        "id": "f_fuPdnf7_QN",
        "colab_type": "code",
        "colab": {
          "base_uri": "https://localhost:8080/",
          "height": 34
        },
        "outputId": "263fbabd-f8d5-467a-c0fe-2a1f5017e35b"
      },
      "source": [
        "rev=name1[-1::-1]\n",
        "\n",
        "outsent=\" \".join(rev)\n",
        "print(outsent)"
      ],
      "execution_count": 15,
      "outputs": [
        {
          "output_type": "stream",
          "text": [
            "day sunny a is Today\n"
          ],
          "name": "stdout"
        }
      ]
    },
    {
      "cell_type": "markdown",
      "metadata": {
        "id": "aCA_ds-27_QQ",
        "colab_type": "text"
      },
      "source": [
        "## 2). Concatenate the variables 'num = 34 and 'string ='How old are you?'  using '+' operator."
      ]
    },
    {
      "cell_type": "code",
      "metadata": {
        "id": "2JtEMSYa7_QR",
        "colab_type": "code",
        "colab": {}
      },
      "source": [
        "store=str(num)+\"How old are you\""
      ],
      "execution_count": 0,
      "outputs": []
    }
  ]
}