{
  "nbformat": 4,
  "nbformat_minor": 0,
  "metadata": {
    "kernelspec": {
      "display_name": "Python 3",
      "language": "python",
      "name": "python3"
    },
    "language_info": {
      "codemirror_mode": {
        "name": "ipython",
        "version": 3
      },
      "file_extension": ".py",
      "mimetype": "text/x-python",
      "name": "python",
      "nbconvert_exporter": "python",
      "pygments_lexer": "ipython3",
      "version": "3.7.3"
    },
    "colab": {
      "name": "10 - List Methods -1.ipynb",
      "provenance": []
    }
  },
  "cells": [
    {
      "cell_type": "markdown",
      "metadata": {
        "id": "vXXQTIvmHlrD",
        "colab_type": "text"
      },
      "source": [
        "## List Methods Topic"
      ]
    },
    {
      "cell_type": "markdown",
      "metadata": {
        "id": "WFP6opmLHlrH",
        "colab_type": "text"
      },
      "source": [
        "<table align=\"left\">\n",
        "    <tr>\n",
        "        <td width=\"6%\">\n",
        "            <img src=\"question_icon.png\">\n",
        "        </td>\n",
        "        <td>\n",
        "            <div align=\"left\", style=\"font-size:120%\">\n",
        "                <font color=\"#21618C\">\n",
        "                    <b>Write a program to perform following built-in list operations:<br><br>\n",
        "                        a. Max(list)<br>\n",
        "                        b. Sort the elements (use sort() and sorted() function)<br>\n",
        "                        c. Create a copy of a list<br>\n",
        "                        d. Remove element '5' from the list</b>\n",
        "                </font>\n",
        "            </div>\n",
        "        </td>\n",
        "    </tr>\n",
        "</table>"
      ]
    },
    {
      "cell_type": "markdown",
      "metadata": {
        "id": "AaFrftlEHlrJ",
        "colab_type": "text"
      },
      "source": [
        "**Use the below list**\n",
        "\n",
        "list1 = [4, 5, 7, -2, 0, 1] "
      ]
    },
    {
      "cell_type": "markdown",
      "metadata": {
        "id": "kL4jiFh_HlrK",
        "colab_type": "text"
      },
      "source": [
        "**a. Max(list)**"
      ]
    },
    {
      "cell_type": "code",
      "metadata": {
        "id": "Qr6NO47qHlrL",
        "colab_type": "code",
        "colab": {
          "base_uri": "https://localhost:8080/",
          "height": 34
        },
        "outputId": "7dd52f49-52f5-471c-d2d2-aff1c3167daa"
      },
      "source": [
        "list1 = [4, 5, 7, -2, 0, 1]\n",
        "print(max(list1))"
      ],
      "execution_count": 1,
      "outputs": [
        {
          "output_type": "stream",
          "text": [
            "7\n"
          ],
          "name": "stdout"
        }
      ]
    },
    {
      "cell_type": "markdown",
      "metadata": {
        "id": "E7L2cEqrHlrR",
        "colab_type": "text"
      },
      "source": [
        "**b. Sort the elements (use sort() and sorted() function)**"
      ]
    },
    {
      "cell_type": "code",
      "metadata": {
        "id": "mua240S6HlrT",
        "colab_type": "code",
        "colab": {
          "base_uri": "https://localhost:8080/",
          "height": 51
        },
        "outputId": "a33a99e4-d490-44de-e21f-88e5e1e0f0da"
      },
      "source": [
        "list1.sort()\n",
        "print(list1)\n",
        "\n",
        "store=sorted(list1)\n",
        "print(store)"
      ],
      "execution_count": 3,
      "outputs": [
        {
          "output_type": "stream",
          "text": [
            "[-2, 0, 1, 4, 5, 7]\n",
            "[-2, 0, 1, 4, 5, 7]\n"
          ],
          "name": "stdout"
        }
      ]
    },
    {
      "cell_type": "markdown",
      "metadata": {
        "id": "_K8LzGgEHlrY",
        "colab_type": "text"
      },
      "source": [
        "**c. Create a copy of a list**"
      ]
    },
    {
      "cell_type": "code",
      "metadata": {
        "id": "Yk9NHTZ3HlrZ",
        "colab_type": "code",
        "colab": {
          "base_uri": "https://localhost:8080/",
          "height": 34
        },
        "outputId": "bc12dd88-840d-40b2-c6d0-e9f768766594"
      },
      "source": [
        "list1 = [4, 5, 7, -2, 0, 1]\n",
        "cop=list1.copy()\n",
        "print(cop)"
      ],
      "execution_count": 6,
      "outputs": [
        {
          "output_type": "stream",
          "text": [
            "[4, 5, 7, -2, 0, 1]\n"
          ],
          "name": "stdout"
        }
      ]
    },
    {
      "cell_type": "markdown",
      "metadata": {
        "id": "gXz-jMBLHlrd",
        "colab_type": "text"
      },
      "source": [
        "**d. Remove element '5' from the list**"
      ]
    },
    {
      "cell_type": "code",
      "metadata": {
        "id": "B3k0TWdGHlrf",
        "colab_type": "code",
        "colab": {
          "base_uri": "https://localhost:8080/",
          "height": 34
        },
        "outputId": "2caf800b-0bcf-4edd-8bf9-8624942e1a4e"
      },
      "source": [
        "list1 = [4, 5, 7, -2, 0, 1]\n",
        "list1.remove(5)\n",
        "print(list1)"
      ],
      "execution_count": 11,
      "outputs": [
        {
          "output_type": "stream",
          "text": [
            "[4, 7, -2, 0, 1]\n"
          ],
          "name": "stdout"
        }
      ]
    },
    {
      "cell_type": "markdown",
      "metadata": {
        "id": "9i0P5QsyHlri",
        "colab_type": "text"
      },
      "source": [
        "<table align=\"left\">\n",
        "    <tr>\n",
        "        <td width=\"6%\">\n",
        "            <img src=\"question_icon.png\">\n",
        "        </td>\n",
        "        <td>\n",
        "            <div align=\"left\", style=\"font-size:120%\">\n",
        "                <font color=\"#21618C\">\n",
        "                    <b>Manipulating a list:<br><br>\n",
        "                        a. Add elements 'Excel' and 'Data' in the given list<br>\n",
        "                        b. Replace an element 'C' with 'C++' in the given list<br>\n",
        "                    </b>\n",
        "                </font>\n",
        "            </div>\n",
        "        </td>\n",
        "    </tr>\n",
        "</table>"
      ]
    },
    {
      "cell_type": "markdown",
      "metadata": {
        "id": "b45jXo2OHlrk",
        "colab_type": "text"
      },
      "source": [
        "Use the below list\n",
        "\n",
        "list1 = ['R', 'Python', 'C', 'Java']"
      ]
    },
    {
      "cell_type": "markdown",
      "metadata": {
        "id": "r5odc33zHlro",
        "colab_type": "text"
      },
      "source": [
        "**a. Add elements 'Excel' and 'Data' in the given list**"
      ]
    },
    {
      "cell_type": "code",
      "metadata": {
        "id": "GGU3EC6PHlrp",
        "colab_type": "code",
        "colab": {
          "base_uri": "https://localhost:8080/",
          "height": 34
        },
        "outputId": "b99e7915-26a2-498e-d779-4c3d319121bb"
      },
      "source": [
        "list1 = ['R', 'Python', 'C', 'Java']\n",
        "list1.append('Excel')\n",
        "list1.append('Data')\n",
        "print(list1)"
      ],
      "execution_count": 12,
      "outputs": [
        {
          "output_type": "stream",
          "text": [
            "['R', 'Python', 'C', 'Java', 'Excel', 'Data']\n"
          ],
          "name": "stdout"
        }
      ]
    },
    {
      "cell_type": "markdown",
      "metadata": {
        "id": "_FjvkLxrHlrt",
        "colab_type": "text"
      },
      "source": [
        "**b. Replace an element 'C' with 'C++' in the given list**"
      ]
    },
    {
      "cell_type": "code",
      "metadata": {
        "id": "4hWKol-uHlrv",
        "colab_type": "code",
        "colab": {
          "base_uri": "https://localhost:8080/",
          "height": 34
        },
        "outputId": "8ee7522d-044e-43c9-e9aa-9cf6e866fddf"
      },
      "source": [
        "list1 = ['R', 'Python', 'C', 'Java']\n",
        "\n",
        "for i in list1:\n",
        "  if i==\"C\":\n",
        "    save=list1.index(i)\n",
        "    list1.remove(i)\n",
        "    list1.insert(save,\"C++\")\n",
        "\n",
        "print(list1)"
      ],
      "execution_count": 18,
      "outputs": [
        {
          "output_type": "stream",
          "text": [
            "['R', 'Python', 'C++', 'Java']\n"
          ],
          "name": "stdout"
        }
      ]
    }
  ]
}